{
 "cells": [
  {
   "cell_type": "code",
   "execution_count": null,
   "id": "15dc9aec",
   "metadata": {},
   "outputs": [],
   "source": [
    "import praw\n",
    "import alpaca_trade_api as trade_api\n",
    "from textblob import TextBlob \n",
    "import time,json, csv, re\n",
    "from alpaca.trading.client import TradingClient\n",
    "import pprint\n",
    "from nltk.sentiment.vader import SentimentIntensityAnalyzer as SIA \n",
    "import pandas as pd\n",
    "import matplotlib.pyplot as plt\n",
    "import seaborn as sns\n",
    "\n",
    "from alpaca.trading.requests import LimitOrderRequest\n",
    "\n",
    "from alpaca.trading.client import TradingClient\n",
    "from datetime import datetime\n",
    "from alpaca.data import StockHistoricalDataClient, StockTradesRequest\n",
    "from alpaca.trading.enums import OrderSide, TimeInForce, QueryOrderStatus\n",
    "from alpaca.trading.requests import MarketOrderRequest\n",
    "from alpaca.trading.requests import LimitOrderRequest\n",
    "from alpaca.trading.requests import GetOrdersRequest\n",
    "from alpaca.data.requests import StockLatestQuoteRequest\n",
    "from alpaca.data.historical import StockHistoricalDataClient\n",
    "from collections import defaultdict\n",
    "\n",
    "\n",
    "reddit_key = \"key\"\n",
    "reddit_secrect = \"secrect\"\n",
    "trading_client = TradingClient(\"key\" , \"secrect\", paper = True )\n",
    "data_client = StockHistoricalDataClient(\"key\" , \"secrect\")\n",
    "\n",
    "print(trading_client.get_account().buying_power)\n",
    "print(trading_client.get_account().account_number)\n",
    "reddit_api_client = praw.Reddit(\n",
    "    client_id = reddit_key,\n",
    "    client_secret = reddit_secrect,\n",
    "    user_agent = \"trading bot | by u/yourNamehere\"\n",
    "\n",
    ")\n",
    "\n",
    "\n",
    "\n"
   ]
  },
  {
   "cell_type": "code",
   "execution_count": null,
   "id": "fab32f6d",
   "metadata": {},
   "outputs": [],
   "source": [
    "def get_weekly_most_recent_link():\n",
    "    user = reddit_api_client.redditor(\"wsbapp\")\n",
    "    for post in user.submissions.new(limit = None):\n",
    "        if \"What Are Your Moves Tomorrow\" in post.title:\n",
    "            return post #\n",
    "\n",
    "\n",
    "\n"
   ]
  },
  {
   "cell_type": "code",
   "execution_count": null,
   "id": "98ceef91",
   "metadata": {},
   "outputs": [],
   "source": [
    "    \n",
    "def extract_comments(post):\n",
    "    post.comments.replace_more()\n",
    "    return [comment.body for comment in post.comments ]\n"
   ]
  },
  {
   "cell_type": "code",
   "execution_count": null,
   "id": "58ef9702",
   "metadata": {},
   "outputs": [],
   "source": [
    "\n",
    "post = get_weekly_most_recent_link()\n",
    "comments = extract_comments(post)\n",
    "\n",
    "\n"
   ]
  },
  {
   "cell_type": "code",
   "execution_count": null,
   "id": "85401147",
   "metadata": {},
   "outputs": [],
   "source": [
    "Stock_List = set()\n",
    "#r\n",
    "with open(\"stock.csv\", \"r\") as f:\n",
    "    reader = csv.reader(f)\n",
    "    for val in list(reader)[1:]: \n",
    "        # add only ticker\n",
    "        Stock_List.add(val[0])\n",
    "    \n",
    "\n"
   ]
  },
  {
   "cell_type": "code",
   "execution_count": null,
   "id": "052b8120",
   "metadata": {},
   "outputs": [],
   "source": [
    "def extract_stock_from_comment(comment):\n",
    "    # Compares the words in the comment with a predefined set or list called STOCK_LIST.\n",
    "    return set(re.findall(r\"\\w+\", comment)).intersection(Stock_List)\n",
    "\n",
    "\n",
    "post = get_weekly_most_recent_link()\n",
    " \n"
   ]
  },
  {
   "cell_type": "code",
   "execution_count": null,
   "id": "8fe68f61",
   "metadata": {},
   "outputs": [],
   "source": [
    "import nltk \n",
    "nltk.download(\"vader_lexicon\")"
   ]
  },
  {
   "cell_type": "code",
   "execution_count": null,
   "id": "58ea1604",
   "metadata": {},
   "outputs": [],
   "source": [
    "\n",
    "sia = SIA()\n",
    "result = []\n",
    "for comment in extract_comments(post):\n",
    "    pol_score = sia.polarity_scores(comment)\n",
    "    pol_score[\"headline\"] = comment \n",
    "    # del comment from list if comment was deleted \n",
    "    if(pol_score[\"headline\"]== \"[deleted]\"):\n",
    "        continue\n",
    "    elif (pol_score[\"headline\"]):\n",
    "        stock = set(re.findall(r\"\\w+\", comment)).intersection(Stock_List)\n",
    "        if not stock:\n",
    "            continue\n",
    "    result.append(pol_score)\n",
    "\n",
    "   \n",
    "\n",
    "\n"
   ]
  },
  {
   "cell_type": "code",
   "execution_count": null,
   "id": "df27b671",
   "metadata": {},
   "outputs": [],
   "source": [
    "df = pd.DataFrame.from_records(result)\n",
    "df[\"label\"] = 0 \n",
    "df.loc[df[\"compound\"] > 0.2, \"label\"] = 1 \n",
    "df.loc[df[\"compound\"] < -0.2, \"label\"] = -1 \n",
    "df.head()"
   ]
  },
  {
   "cell_type": "code",
   "execution_count": null,
   "id": "1ba1a486",
   "metadata": {},
   "outputs": [],
   "source": [
    "df1 = df[['headline', 'label']]\n",
    "df1.to_csv(\"WSB_HEADLINE.csv\", encoding = 'utf-8', index = False)"
   ]
  },
  {
   "cell_type": "code",
   "execution_count": null,
   "id": "d11c8958",
   "metadata": {},
   "outputs": [],
   "source": [
    "fig, ax = plt.subplots(figsize=(8, 8))\n",
    "counts = df.label.value_counts(normalize=True) * 100\n",
    "colors = ['red', 'blue', 'green']\n",
    "sns.barplot(x=counts.index, y=counts, ax=ax, palette=colors)\n",
    "ax.set_xticklabels(['Negative', 'Neutral', 'Positive'])\n",
    "ax.set_ylabel(\"Percentage\")\n",
    "plt.show()"
   ]
  },
  {
   "cell_type": "code",
   "execution_count": null,
   "id": "1355e8a2",
   "metadata": {},
   "outputs": [],
   "source": [
    "\n",
    "\n",
    "print(trading_client.get_account().buying_power)\n",
    "print(trading_client.get_account().account_number)\n",
    "short_positions = {}"
   ]
  },
  {
   "cell_type": "code",
   "execution_count": null,
   "id": "765ca10f",
   "metadata": {},
   "outputs": [],
   "source": [
    "\n",
    "short_positions = defaultdict(lambda: {\"amount\": 0, \"price\": 0.0})\n",
    "\n",
    "for index, row in df.iterrows():\n",
    "    stock = extract_stock_from_comment(str(row['headline']))\n",
    "    if isinstance(stock, set):\n",
    "        if len(stock) == 0:\n",
    "            continue\n",
    "        stock = next(iter(stock))\n",
    "        stock = stock.upper().strip()\n",
    "    try:\n",
    "        if row[\"label\"] == 1:\n",
    "            market_order_data = MarketOrderRequest(\n",
    "                symbol=stock,\n",
    "                qty=1,\n",
    "                side=OrderSide.SELL,\n",
    "                time_in_force=TimeInForce.DAY\n",
    "            )\n",
    "            request_params = StockLatestQuoteRequest(symbol_or_symbols=stock)\n",
    "            latest_quote = data_client.get_stock_latest_quote(request_params)\n",
    "            current_price = latest_quote[stock].ask_price\n",
    "            short_positions[stock][\"amount\"] += 1\n",
    "            short_positions[stock][\"price\"] = float(current_price)\n",
    "            market_order = trading_client.submit_order(market_order_data)\n",
    "        else:\n",
    "            market_order_data = MarketOrderRequest(\n",
    "                symbol=stock,\n",
    "                qty=1,\n",
    "                side=OrderSide.BUY,\n",
    "                time_in_force=TimeInForce.DAY\n",
    "            )\n",
    "            market_order = trading_client.submit_order(market_order_data)\n",
    "    except Exception as e:\n",
    "        continue"
   ]
  },
  {
   "cell_type": "code",
   "execution_count": null,
   "id": "01e22d37",
   "metadata": {},
   "outputs": [],
   "source": [
    "def check_signals_and_trade():\n",
    "    for stock in short_positions:\n",
    "        request_params = StockLatestQuoteRequest(symbol_or_symbols=stock)\n",
    "        latest_quote = data_client.get_stock_latest_quote(request_params)\n",
    "        current_price = latest_quote[stock].ask_price\n",
    "\n",
    "        if current_price < short_positions[stock][\"price\"]:\n",
    "            market_order_data = MarketOrderRequest(\n",
    "                symbol=stock,\n",
    "                qty=1,\n",
    "                side=OrderSide.BUY,\n",
    "                time_in_force=TimeInForce.DAY\n",
    "            )\n",
    "            market_order = trading_client.submit_order(market_order_data)\n",
    "\n",
    "while True:\n",
    "    check_signals_and_trade()\n",
    "    time.sleep(60)\n"
   ]
  }
 ],
 "metadata": {
  "kernelspec": {
   "display_name": ".venv",
   "language": "python",
   "name": "python3"
  },
  "language_info": {
   "codemirror_mode": {
    "name": "ipython",
    "version": 3
   },
   "file_extension": ".py",
   "mimetype": "text/x-python",
   "name": "python",
   "nbconvert_exporter": "python",
   "pygments_lexer": "ipython3",
   "version": "3.13.3"
  }
 },
 "nbformat": 4,
 "nbformat_minor": 5
}
