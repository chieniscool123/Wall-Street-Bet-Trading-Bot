{
 "cells": [
  {
   "cell_type": "code",
   "execution_count": null,
   "id": "15dc9aec",
   "metadata": {},
   "outputs": [
    {
     "name": "stdout",
     "output_type": "stream",
     "text": [
      "102569.15\n",
      "PA3RXWI9SFFY\n"
     ]
    }
   ],
   "source": [
    "import praw\n",
    "import alpaca_trade_api as trade_api\n",
    "from textblob import TextBlob \n",
    "import time,json, csv, re\n",
    "from alpaca.trading.client import TradingClient\n",
    "import pprint\n",
    "from nltk.sentiment.vader import SentimentIntensityAnalyzer as SIA \n",
    "import pandas as pd\n",
    "import matplotlib.pyplot as plt\n",
    "import seaborn as sns\n",
    "\n",
    "from alpaca.trading.requests import LimitOrderRequest\n",
    "\n",
    "from alpaca.trading.client import TradingClient\n",
    "from datetime import datetime\n",
    "from alpaca.data import StockHistoricalDataClient, StockTradesRequest\n",
    "from alpaca.trading.enums import OrderSide, TimeInForce, QueryOrderStatus\n",
    "from alpaca.trading.requests import MarketOrderRequest\n",
    "from alpaca.trading.requests import LimitOrderRequest\n",
    "from alpaca.trading.requests import GetOrdersRequest\n",
    "from alpaca.data.requests import StockLatestQuoteRequest\n",
    "from alpaca.data.historical import StockHistoricalDataClient\n",
    "from collections import defaultdict\n",
    "\n",
    "\n",
    "reddit_key = \"key\"\n",
    "reddit_secrect = \"secrect\"\n",
    "trading_client = TradingClient(\"key\" , \"secrect\", paper = True )\n",
    "data_client = StockHistoricalDataClient(\"key\" , \"secrect\")\n",
    "\n",
    "print(trading_client.get_account().buying_power)\n",
    "print(trading_client.get_account().account_number)\n",
    "reddit_api_client = praw.Reddit(\n",
    "    client_id = reddit_key,\n",
    "    client_secret = reddit_secrect,\n",
    "    user_agent = \"trading bot | by u/yourNamehere\"\n",
    "\n",
    ")\n",
    "\n",
    "\n",
    "\n"
   ]
  },
  {
   "cell_type": "code",
   "execution_count": 3,
   "id": "fab32f6d",
   "metadata": {},
   "outputs": [],
   "source": [
    "def get_weekly_most_recent_link():\n",
    "    user = reddit_api_client.redditor(\"wsbapp\")\n",
    "    for post in user.submissions.new(limit = None):\n",
    "        if \"What Are Your Moves Tomorrow\" in post.title:\n",
    "            return post #\n",
    "\n",
    "\n",
    "\n"
   ]
  },
  {
   "cell_type": "code",
   "execution_count": 4,
   "id": "98ceef91",
   "metadata": {},
   "outputs": [],
   "source": [
    "    \n",
    "def extract_comments(post):\n",
    "    post.comments.replace_more()\n",
    "    return [comment.body for comment in post.comments ]\n"
   ]
  },
  {
   "cell_type": "code",
   "execution_count": 5,
   "id": "58ef9702",
   "metadata": {},
   "outputs": [],
   "source": [
    "\n",
    "post = get_weekly_most_recent_link()\n",
    "comments = extract_comments(post)\n",
    "\n",
    "\n"
   ]
  },
  {
   "cell_type": "code",
   "execution_count": 6,
   "id": "85401147",
   "metadata": {},
   "outputs": [],
   "source": [
    "Stock_List = set()\n",
    "#r\n",
    "with open(\"stock.csv\", \"r\") as f:\n",
    "    reader = csv.reader(f)\n",
    "    for val in list(reader)[1:]: \n",
    "        # add only ticker\n",
    "        Stock_List.add(val[0])\n",
    "    \n",
    "\n"
   ]
  },
  {
   "cell_type": "code",
   "execution_count": 7,
   "id": "052b8120",
   "metadata": {},
   "outputs": [],
   "source": [
    "def extract_stock_from_comment(comment):\n",
    "    # Compares the words in the comment with a predefined set or list called STOCK_LIST.\n",
    "    return set(re.findall(r\"\\w+\", comment)).intersection(Stock_List)\n",
    "\n",
    "\n",
    "post = get_weekly_most_recent_link()\n",
    " \n"
   ]
  },
  {
   "cell_type": "code",
   "execution_count": 8,
   "id": "8fe68f61",
   "metadata": {},
   "outputs": [
    {
     "name": "stderr",
     "output_type": "stream",
     "text": [
      "[nltk_data] Downloading package vader_lexicon to\n",
      "[nltk_data]     C:\\Users\\chien\\AppData\\Roaming\\nltk_data...\n",
      "[nltk_data]   Package vader_lexicon is already up-to-date!\n"
     ]
    },
    {
     "data": {
      "text/plain": [
       "True"
      ]
     },
     "execution_count": 8,
     "metadata": {},
     "output_type": "execute_result"
    }
   ],
   "source": [
    "import nltk \n",
    "nltk.download(\"vader_lexicon\")"
   ]
  },
  {
   "cell_type": "code",
   "execution_count": 9,
   "id": "58ea1604",
   "metadata": {},
   "outputs": [],
   "source": [
    "\n",
    "sia = SIA()\n",
    "result = []\n",
    "for comment in extract_comments(post):\n",
    "    pol_score = sia.polarity_scores(comment)\n",
    "    pol_score[\"headline\"] = comment \n",
    "    # del comment from list if comment was deleted \n",
    "    if(pol_score[\"headline\"]== \"[deleted]\"):\n",
    "        continue\n",
    "    elif (pol_score[\"headline\"]):\n",
    "        stock = set(re.findall(r\"\\w+\", comment)).intersection(Stock_List)\n",
    "        if not stock:\n",
    "            continue\n",
    "    result.append(pol_score)\n",
    "\n",
    "   \n",
    "\n",
    "\n"
   ]
  },
  {
   "cell_type": "code",
   "execution_count": 10,
   "id": "df27b671",
   "metadata": {},
   "outputs": [
    {
     "data": {
      "text/html": [
       "<div>\n",
       "<style scoped>\n",
       "    .dataframe tbody tr th:only-of-type {\n",
       "        vertical-align: middle;\n",
       "    }\n",
       "\n",
       "    .dataframe tbody tr th {\n",
       "        vertical-align: top;\n",
       "    }\n",
       "\n",
       "    .dataframe thead th {\n",
       "        text-align: right;\n",
       "    }\n",
       "</style>\n",
       "<table border=\"1\" class=\"dataframe\">\n",
       "  <thead>\n",
       "    <tr style=\"text-align: right;\">\n",
       "      <th></th>\n",
       "      <th>neg</th>\n",
       "      <th>neu</th>\n",
       "      <th>pos</th>\n",
       "      <th>compound</th>\n",
       "      <th>headline</th>\n",
       "      <th>label</th>\n",
       "    </tr>\n",
       "  </thead>\n",
       "  <tbody>\n",
       "    <tr>\n",
       "      <th>0</th>\n",
       "      <td>0.000</td>\n",
       "      <td>0.803</td>\n",
       "      <td>0.197</td>\n",
       "      <td>0.2415</td>\n",
       "      <td>WE FUCKING ON THE AMAZON BASICS BED TONIGHT BABE</td>\n",
       "      <td>1</td>\n",
       "    </tr>\n",
       "    <tr>\n",
       "      <th>1</th>\n",
       "      <td>0.000</td>\n",
       "      <td>0.606</td>\n",
       "      <td>0.394</td>\n",
       "      <td>0.5994</td>\n",
       "      <td>People are still doing BYND yolos lmao</td>\n",
       "      <td>1</td>\n",
       "    </tr>\n",
       "    <tr>\n",
       "      <th>2</th>\n",
       "      <td>0.063</td>\n",
       "      <td>0.779</td>\n",
       "      <td>0.158</td>\n",
       "      <td>0.7841</td>\n",
       "      <td>Leaked transcription of the China/US talks:\\n\\...</td>\n",
       "      <td>1</td>\n",
       "    </tr>\n",
       "    <tr>\n",
       "      <th>3</th>\n",
       "      <td>0.180</td>\n",
       "      <td>0.719</td>\n",
       "      <td>0.101</td>\n",
       "      <td>-0.4310</td>\n",
       "      <td>NFLX up 50$ because of stock split announcemen...</td>\n",
       "      <td>-1</td>\n",
       "    </tr>\n",
       "    <tr>\n",
       "      <th>4</th>\n",
       "      <td>0.000</td>\n",
       "      <td>0.733</td>\n",
       "      <td>0.267</td>\n",
       "      <td>0.6249</td>\n",
       "      <td>As an AMZN holder, can’t help but feel like it...</td>\n",
       "      <td>1</td>\n",
       "    </tr>\n",
       "  </tbody>\n",
       "</table>\n",
       "</div>"
      ],
      "text/plain": [
       "     neg    neu    pos  compound  \\\n",
       "0  0.000  0.803  0.197    0.2415   \n",
       "1  0.000  0.606  0.394    0.5994   \n",
       "2  0.063  0.779  0.158    0.7841   \n",
       "3  0.180  0.719  0.101   -0.4310   \n",
       "4  0.000  0.733  0.267    0.6249   \n",
       "\n",
       "                                            headline  label  \n",
       "0   WE FUCKING ON THE AMAZON BASICS BED TONIGHT BABE      1  \n",
       "1             People are still doing BYND yolos lmao      1  \n",
       "2  Leaked transcription of the China/US talks:\\n\\...      1  \n",
       "3  NFLX up 50$ because of stock split announcemen...     -1  \n",
       "4  As an AMZN holder, can’t help but feel like it...      1  "
      ]
     },
     "execution_count": 10,
     "metadata": {},
     "output_type": "execute_result"
    }
   ],
   "source": [
    "df = pd.DataFrame.from_records(result)\n",
    "df[\"label\"] = 0 \n",
    "df.loc[df[\"compound\"] > 0.2, \"label\"] = 1 \n",
    "df.loc[df[\"compound\"] < -0.2, \"label\"] = -1 \n",
    "df.head()"
   ]
  },
  {
   "cell_type": "code",
   "execution_count": 11,
   "id": "1ba1a486",
   "metadata": {},
   "outputs": [],
   "source": [
    "df1 = df[['headline', 'label']]\n",
    "df1.to_csv(\"WSB_HEADLINE.csv\", encoding = 'utf-8', index = False)"
   ]
  },
  {
   "cell_type": "code",
   "execution_count": 12,
   "id": "d11c8958",
   "metadata": {},
   "outputs": [
    {
     "name": "stderr",
     "output_type": "stream",
     "text": [
      "C:\\Users\\chien\\AppData\\Local\\Temp\\ipykernel_38336\\3769717107.py:4: FutureWarning: \n",
      "\n",
      "Passing `palette` without assigning `hue` is deprecated and will be removed in v0.14.0. Assign the `x` variable to `hue` and set `legend=False` for the same effect.\n",
      "\n",
      "  sns.barplot(x=counts.index, y=counts, ax=ax, palette=colors)\n",
      "C:\\Users\\chien\\AppData\\Local\\Temp\\ipykernel_38336\\3769717107.py:5: UserWarning: set_ticklabels() should only be used with a fixed number of ticks, i.e. after set_ticks() or using a FixedLocator.\n",
      "  ax.set_xticklabels(['Negative', 'Neutral', 'Positive'])\n"
     ]
    },
    {
     "data": {
      "image/png": "[encoded data removed]",
      "text/plain": [
       "<Figure size 800x800 with 1 Axes>"
      ]
     },
     "metadata": {},
     "output_type": "display_data"
    }
   ],
   "source": [
    "fig, ax = plt.subplots(figsize=(8, 8))\n",
    "counts = df.label.value_counts(normalize=True) * 100\n",
    "colors = ['red', 'blue', 'green']\n",
    "sns.barplot(x=counts.index, y=counts, ax=ax, palette=colors)\n",
    "ax.set_xticklabels(['Negative', 'Neutral', 'Positive'])\n",
    "ax.set_ylabel(\"Percentage\")\n",
    "plt.show()"
   ]
  },
  {
   "cell_type": "code",
   "execution_count": 13,
   "id": "1355e8a2",
   "metadata": {},
   "outputs": [
    {
     "name": "stdout",
     "output_type": "stream",
     "text": [
      "102569.15\n",
      "PA3RXWI9SFFY\n"
     ]
    }
   ],
   "source": [
    "\n",
    "\n",
    "print(trading_client.get_account().buying_power)\n",
    "print(trading_client.get_account().account_number)\n",
    "short_positions = {}"
   ]
  },
  {
   "cell_type": "code",
   "execution_count": 14,
   "id": "765ca10f",
   "metadata": {},
   "outputs": [],
   "source": [
    "\n",
    "short_positions = defaultdict(lambda: {\"amount\": 0, \"price\": 0.0})\n",
    "\n",
    "for index, row in df.iterrows():\n",
    "    stock = extract_stock_from_comment(str(row['headline']))\n",
    "    if isinstance(stock, set):\n",
    "        if len(stock) == 0:\n",
    "            continue\n",
    "        stock = next(iter(stock))\n",
    "        stock = stock.upper().strip()\n",
    "    try:\n",
    "        if row[\"label\"] == 1:\n",
    "            market_order_data = MarketOrderRequest(\n",
    "                symbol=stock,\n",
    "                qty=1,\n",
    "                side=OrderSide.SELL,\n",
    "                time_in_force=TimeInForce.DAY\n",
    "            )\n",
    "            request_params = StockLatestQuoteRequest(symbol_or_symbols=stock)\n",
    "            latest_quote = data_client.get_stock_latest_quote(request_params)\n",
    "            current_price = latest_quote[stock].ask_price\n",
    "            short_positions[stock][\"amount\"] += 1\n",
    "            short_positions[stock][\"price\"] = float(current_price)\n",
    "            market_order = trading_client.submit_order(market_order_data)\n",
    "        else:\n",
    "            market_order_data = MarketOrderRequest(\n",
    "                symbol=stock,\n",
    "                qty=1,\n",
    "                side=OrderSide.BUY,\n",
    "                time_in_force=TimeInForce.DAY\n",
    "            )\n",
    "            market_order = trading_client.submit_order(market_order_data)\n",
    "    except Exception as e:\n",
    "        continue"
   ]
  },
  {
   "cell_type": "code",
   "execution_count": null,
   "id": "01e22d37",
   "metadata": {},
   "outputs": [],
   "source": [
    "def check_signals_and_trade():\n",
    "    for stock in short_positions:\n",
    "        request_params = StockLatestQuoteRequest(symbol_or_symbols=stock)\n",
    "        latest_quote = data_client.get_stock_latest_quote(request_params)\n",
    "        current_price = latest_quote[stock].ask_price\n",
    "\n",
    "        if current_price < short_positions[stock][\"price\"]:\n",
    "            market_order_data = MarketOrderRequest(\n",
    "                symbol=stock,\n",
    "                qty=1,\n",
    "                side=OrderSide.BUY,\n",
    "                time_in_force=TimeInForce.DAY\n",
    "            )\n",
    "            market_order = trading_client.submit_order(market_order_data)\n",
    "\n",
    "while True:\n",
    "    check_signals_and_trade()\n",
    "    time.sleep(60)\n"
   ]
  }
 ],
 "metadata": {
  "kernelspec": {
   "display_name": ".venv",
   "language": "python",
   "name": "python3"
  },
  "language_info": {
   "codemirror_mode": {
    "name": "ipython",
    "version": 3
   },
   "file_extension": ".py",
   "mimetype": "text/x-python",
   "name": "python",
   "nbconvert_exporter": "python",
   "pygments_lexer": "ipython3",
   "version": "3.13.3"
  }
 },
 "nbformat": 4,
 "nbformat_minor": 5
}
